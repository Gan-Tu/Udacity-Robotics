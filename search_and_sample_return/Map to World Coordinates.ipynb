{
 "cells": [
  {
   "cell_type": "code",
   "execution_count": 14,
   "metadata": {
    "collapsed": false
   },
   "outputs": [],
   "source": [
    "import matplotlib.pyplot as plt\n",
    "import matplotlib.image as mpimg\n",
    "import numpy as np\n",
    "import cv2\n",
    "%matplotlib inline"
   ]
  },
  {
   "cell_type": "markdown",
   "metadata": {},
   "source": [
    "## Helper Functions"
   ]
  },
  {
   "cell_type": "code",
   "execution_count": 6,
   "metadata": {
    "collapsed": true
   },
   "outputs": [],
   "source": [
    "def perspect_transform(img):\n",
    "    \n",
    "    img_size = (img.shape[1], img.shape[0])\n",
    "    # Define calibration box in source (actual) and destination (desired) coordinates\n",
    "    # These source and destination points are defined to warp the image\n",
    "    # to a grid where each 10x10 pixel square represents 1 square meter\n",
    "    dst_size = 5 \n",
    "    # Set a bottom offset to account for the fact that the bottom of the image \n",
    "    # is not the position of the rover but a bit in front of it\n",
    "    bottom_offset = 6\n",
    "    src = np.float32([[14, 140], [301 ,140],[200, 96], [118, 96]])\n",
    "    dst = np.float32([[img_size[0]/2 - dst_size, img_size[1] - bottom_offset],\n",
    "                      [img_size[0]/2 + dst_size, img_size[1] - bottom_offset],\n",
    "                      [img_size[0]/2 + dst_size, img_size[1] - 2*dst_size - bottom_offset], \n",
    "                      [img_size[0]/2 - dst_size, img_size[1] - 2*dst_size - bottom_offset],\n",
    "                      ])\n",
    "       \n",
    "    M = cv2.getPerspectiveTransform(src, dst)\n",
    "    warped = cv2.warpPerspective(img, M, img_size)# keep same size as input image\n",
    "    return warped\n",
    "\n",
    "def color_thresh(img, rgb_thresh=(170, 170, 170)):\n",
    "    # Create an array of zeros same xy size as img, but single channel\n",
    "    color_select = np.zeros_like(img[:,:,0])\n",
    "    # Require that each pixel be above all thre threshold values in RGB\n",
    "    # above_thresh will now contain a boolean array with \"True\"\n",
    "    # where threshold was met\n",
    "    above_thresh = (img[:,:,0] > rgb_thresh[0]) \\\n",
    "                & (img[:,:,1] > rgb_thresh[1]) \\\n",
    "                & (img[:,:,2] > rgb_thresh[2])\n",
    "    # Index the array of zeros with the boolean array and set to 1\n",
    "    color_select[above_thresh] = 1\n",
    "    # Return the binary image\n",
    "    return color_select\n",
    "    \n",
    "def rover_coords(binary_img):\n",
    "    # Identify nonzero pixels\n",
    "    ypos, xpos = binary_img.nonzero()\n",
    "    # Calculate pixel positions with reference to the rover position being at the \n",
    "    # center bottom of the image.  \n",
    "    x_pixel = np.absolute(ypos - binary_img.shape[0]).astype(np.float)\n",
    "    y_pixel = -(xpos - binary_img.shape[0]).astype(np.float)\n",
    "    return x_pixel, y_pixel"
   ]
  },
  {
   "cell_type": "markdown",
   "metadata": {},
   "source": [
    "## Read Image"
   ]
  },
  {
   "cell_type": "code",
   "execution_count": 7,
   "metadata": {
    "collapsed": false
   },
   "outputs": [],
   "source": [
    "# Read in the sample image\n",
    "image = mpimg.imread('sample.jpg')"
   ]
  },
  {
   "cell_type": "markdown",
   "metadata": {},
   "source": [
    "## Generate Random Position for Demonstration"
   ]
  },
  {
   "cell_type": "code",
   "execution_count": 9,
   "metadata": {
    "collapsed": true
   },
   "outputs": [],
   "source": [
    "# Rover yaw values will come as floats from 0 to 360\n",
    "# Generate a random value in this range\n",
    "# Note: you need to convert this to radians\n",
    "    # before adding to pixel_angles\n",
    "rover_yaw = np.random.random(1)*360\n",
    "\n",
    "# Generate a random rover position in world coords\n",
    "# Position values will range from 20 to 180 to \n",
    "# avoid the edges in a 200 x 200 pixel world\n",
    "rover_xpos = np.random.random(1)*160 + 20\n",
    "rover_ypos = np.random.random(1)*160 + 20"
   ]
  },
  {
   "cell_type": "markdown",
   "metadata": {},
   "source": [
    "## Mapping Function"
   ]
  },
  {
   "cell_type": "code",
   "execution_count": 11,
   "metadata": {
    "collapsed": true
   },
   "outputs": [],
   "source": [
    "# Note: Since we've chosen random numbers for yaw and position, \n",
    "# multiple run of the code will result in different outputs each time.\n",
    "\n",
    "# Define a function to apply a rotation to pixel positions\n",
    "def rotate_pix(xpix, ypix, yaw):\n",
    "    # Convert yaw to radians\n",
    "    # Apply a rotation\n",
    "    yaw_rad = yaw * np.pi / 180\n",
    "    xpix_rotated = xpix * np.cos(yaw_rad) - ypix * np.sin(yaw_rad)\n",
    "    ypix_rotated = xpix * np.sin(yaw_rad) + ypix * np.sin(yaw_rad)\n",
    "    # Return the result  \n",
    "    return xpix_rotated, ypix_rotated\n",
    "\n",
    "# Define a function to perform a translation\n",
    "def translate_pix(xpix_rot, ypix_rot, xpos, ypos, scale): \n",
    "    # Apply a scaling and a translation\n",
    "    # Assume a scale factor of 10 between world space pixels and rover space pixels\n",
    "    scale = 10\n",
    "    # Perform translation and convert to integer since pixel values can't be float\n",
    "    xpix_translated = np.int_(xpos + (xpix_rot / scale))\n",
    "    ypix_translated = np.int_(ypos + (ypix_rot / scale))\n",
    "    # Return the result  \n",
    "    return xpix_translated, ypix_translated\n",
    "\n",
    "# Define a function to apply rotation and translation (and clipping)\n",
    "# Once you define the two functions above this function should work\n",
    "def pix_to_world(xpix, ypix, xpos, ypos, yaw, world_size, scale):\n",
    "    # Apply rotation\n",
    "    xpix_rot, ypix_rot = rotate_pix(xpix, ypix, yaw)\n",
    "    # Apply translation\n",
    "    xpix_tran, ypix_tran = translate_pix(xpix_rot, ypix_rot, xpos, ypos, scale)\n",
    "    # Perform rotation, translation and clipping all at once\n",
    "    x_pix_world = np.clip(np.int_(xpix_tran), 0, world_size - 1)\n",
    "    y_pix_world = np.clip(np.int_(ypix_tran), 0, world_size - 1)\n",
    "    # Return the result\n",
    "    return x_pix_world, y_pix_world"
   ]
  },
  {
   "cell_type": "code",
   "execution_count": 15,
   "metadata": {
    "collapsed": false
   },
   "outputs": [
    {
     "name": "stdout",
     "output_type": "stream",
     "text": [
      "Xpos = [ 150.96094244] Ypos = [ 170.05626196] Yaw = [ 2.63864944]\n"
     ]
    },
    {
     "data": {
      "image/png": "[encoded data removed]",
      "text/plain": [
       "<matplotlib.figure.Figure at 0x1180ad908>"
      ]
     },
     "metadata": {},
     "output_type": "display_data"
    }
   ],
   "source": [
    "# No need to modify code below here\n",
    "# Perform warping and color thresholding\n",
    "warped = perspect_transform(image)\n",
    "colorsel = color_thresh(warped, rgb_thresh=(160, 160, 160))\n",
    "# Extract navigable terrain pixels\n",
    "xpix, ypix = rover_coords(colorsel)\n",
    "# Generate 200 x 200 pixel worldmap\n",
    "worldmap = np.zeros((200, 200))\n",
    "scale = 10\n",
    "# Get navigable pixel positions in world coords\n",
    "x_world, y_world = pix_to_world(xpix, ypix, rover_xpos, \n",
    "                                rover_ypos, rover_yaw, \n",
    "                                worldmap.shape[0], scale)\n",
    "# Add pixel positions to worldmap\n",
    "worldmap[y_world, x_world] += 1\n",
    "print('Xpos =', rover_xpos, 'Ypos =', rover_ypos, 'Yaw =', rover_yaw)\n",
    "# Plot the map in rover-centric coords\n",
    "\n",
    "f, (ax1, ax2) = plt.subplots(1, 2, figsize=(14, 7))\n",
    "f.tight_layout()\n",
    "ax1.plot(xpix, ypix, '.')\n",
    "ax1.set_title('Rover Space', fontsize=40)\n",
    "ax1.set_ylim(-160, 160)\n",
    "ax1.set_xlim(0, 160)\n",
    "ax1.tick_params(labelsize=20)\n",
    "\n",
    "ax2.imshow(worldmap, cmap='gray')\n",
    "ax2.set_title('World Space', fontsize=40)\n",
    "ax2.set_ylim(0, 200)\n",
    "ax2.tick_params(labelsize=20)\n",
    "ax2.set_xlim(0, 200)\n",
    "\n",
    "\n",
    "plt.subplots_adjust(left=0.1, right=1, top=0.9, bottom=0.1)"
   ]
  }
 ],
 "metadata": {
  "kernelspec": {
   "display_name": "Python 3",
   "language": "python",
   "name": "python3"
  },
  "language_info": {
   "codemirror_mode": {
    "name": "ipython",
    "version": 3
   },
   "file_extension": ".py",
   "mimetype": "text/x-python",
   "name": "python",
   "nbconvert_exporter": "python",
   "pygments_lexer": "ipython3",
   "version": "3.6.1"
  }
 },
 "nbformat": 4,
 "nbformat_minor": 2
}
